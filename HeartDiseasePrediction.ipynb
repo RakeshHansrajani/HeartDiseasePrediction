{
 "cells": [
  {
   "cell_type": "markdown",
   "id": "fd72d9bb",
   "metadata": {},
   "source": [
    "#### Import the libraries"
   ]
  },
  {
   "cell_type": "code",
   "execution_count": 1,
   "id": "0356a7c6",
   "metadata": {},
   "outputs": [],
   "source": [
    "import numpy as np\n",
    "import matplotlib.pyplot as plt\n",
    "import seaborn as sns\n",
    "import pandas as pd"
   ]
  },
  {
   "cell_type": "markdown",
   "id": "ce5cfce9",
   "metadata": {},
   "source": [
    "#### Read the dataset"
   ]
  },
  {
   "cell_type": "code",
   "execution_count": 2,
   "id": "e67679f1",
   "metadata": {},
   "outputs": [
    {
     "ename": "FileNotFoundError",
     "evalue": "[Errno 2] No such file or directory: 'E:/Imarticus_CF/Datasets/HeartDisease.csv'",
     "output_type": "error",
     "traceback": [
      "\u001b[1;31m---------------------------------------------------------------------------\u001b[0m",
      "\u001b[1;31mFileNotFoundError\u001b[0m                         Traceback (most recent call last)",
      "\u001b[1;32m~\\AppData\\Local\\Temp\\ipykernel_13124\\1504210942.py\u001b[0m in \u001b[0;36m<module>\u001b[1;34m\u001b[0m\n\u001b[1;32m----> 1\u001b[1;33m \u001b[0mdf\u001b[0m \u001b[1;33m=\u001b[0m \u001b[0mpd\u001b[0m\u001b[1;33m.\u001b[0m\u001b[0mread_csv\u001b[0m\u001b[1;33m(\u001b[0m\u001b[1;34m'E:/Imarticus_CF/Datasets/HeartDisease.csv'\u001b[0m\u001b[1;33m)\u001b[0m\u001b[1;33m\u001b[0m\u001b[1;33m\u001b[0m\u001b[0m\n\u001b[0m\u001b[0;32m      2\u001b[0m \u001b[0mdf\u001b[0m\u001b[1;33m.\u001b[0m\u001b[0mhead\u001b[0m\u001b[1;33m(\u001b[0m\u001b[1;33m)\u001b[0m\u001b[1;33m\u001b[0m\u001b[1;33m\u001b[0m\u001b[0m\n",
      "\u001b[1;32mC:\\ProgramData\\Anaconda3\\lib\\site-packages\\pandas\\util\\_decorators.py\u001b[0m in \u001b[0;36mwrapper\u001b[1;34m(*args, **kwargs)\u001b[0m\n\u001b[0;32m    309\u001b[0m                     \u001b[0mstacklevel\u001b[0m\u001b[1;33m=\u001b[0m\u001b[0mstacklevel\u001b[0m\u001b[1;33m,\u001b[0m\u001b[1;33m\u001b[0m\u001b[1;33m\u001b[0m\u001b[0m\n\u001b[0;32m    310\u001b[0m                 )\n\u001b[1;32m--> 311\u001b[1;33m             \u001b[1;32mreturn\u001b[0m \u001b[0mfunc\u001b[0m\u001b[1;33m(\u001b[0m\u001b[1;33m*\u001b[0m\u001b[0margs\u001b[0m\u001b[1;33m,\u001b[0m \u001b[1;33m**\u001b[0m\u001b[0mkwargs\u001b[0m\u001b[1;33m)\u001b[0m\u001b[1;33m\u001b[0m\u001b[1;33m\u001b[0m\u001b[0m\n\u001b[0m\u001b[0;32m    312\u001b[0m \u001b[1;33m\u001b[0m\u001b[0m\n\u001b[0;32m    313\u001b[0m         \u001b[1;32mreturn\u001b[0m \u001b[0mwrapper\u001b[0m\u001b[1;33m\u001b[0m\u001b[1;33m\u001b[0m\u001b[0m\n",
      "\u001b[1;32mC:\\ProgramData\\Anaconda3\\lib\\site-packages\\pandas\\io\\parsers\\readers.py\u001b[0m in \u001b[0;36mread_csv\u001b[1;34m(filepath_or_buffer, sep, delimiter, header, names, index_col, usecols, squeeze, prefix, mangle_dupe_cols, dtype, engine, converters, true_values, false_values, skipinitialspace, skiprows, skipfooter, nrows, na_values, keep_default_na, na_filter, verbose, skip_blank_lines, parse_dates, infer_datetime_format, keep_date_col, date_parser, dayfirst, cache_dates, iterator, chunksize, compression, thousands, decimal, lineterminator, quotechar, quoting, doublequote, escapechar, comment, encoding, encoding_errors, dialect, error_bad_lines, warn_bad_lines, on_bad_lines, delim_whitespace, low_memory, memory_map, float_precision, storage_options)\u001b[0m\n\u001b[0;32m    676\u001b[0m     \u001b[0mkwds\u001b[0m\u001b[1;33m.\u001b[0m\u001b[0mupdate\u001b[0m\u001b[1;33m(\u001b[0m\u001b[0mkwds_defaults\u001b[0m\u001b[1;33m)\u001b[0m\u001b[1;33m\u001b[0m\u001b[1;33m\u001b[0m\u001b[0m\n\u001b[0;32m    677\u001b[0m \u001b[1;33m\u001b[0m\u001b[0m\n\u001b[1;32m--> 678\u001b[1;33m     \u001b[1;32mreturn\u001b[0m \u001b[0m_read\u001b[0m\u001b[1;33m(\u001b[0m\u001b[0mfilepath_or_buffer\u001b[0m\u001b[1;33m,\u001b[0m \u001b[0mkwds\u001b[0m\u001b[1;33m)\u001b[0m\u001b[1;33m\u001b[0m\u001b[1;33m\u001b[0m\u001b[0m\n\u001b[0m\u001b[0;32m    679\u001b[0m \u001b[1;33m\u001b[0m\u001b[0m\n\u001b[0;32m    680\u001b[0m \u001b[1;33m\u001b[0m\u001b[0m\n",
      "\u001b[1;32mC:\\ProgramData\\Anaconda3\\lib\\site-packages\\pandas\\io\\parsers\\readers.py\u001b[0m in \u001b[0;36m_read\u001b[1;34m(filepath_or_buffer, kwds)\u001b[0m\n\u001b[0;32m    573\u001b[0m \u001b[1;33m\u001b[0m\u001b[0m\n\u001b[0;32m    574\u001b[0m     \u001b[1;31m# Create the parser.\u001b[0m\u001b[1;33m\u001b[0m\u001b[1;33m\u001b[0m\u001b[0m\n\u001b[1;32m--> 575\u001b[1;33m     \u001b[0mparser\u001b[0m \u001b[1;33m=\u001b[0m \u001b[0mTextFileReader\u001b[0m\u001b[1;33m(\u001b[0m\u001b[0mfilepath_or_buffer\u001b[0m\u001b[1;33m,\u001b[0m \u001b[1;33m**\u001b[0m\u001b[0mkwds\u001b[0m\u001b[1;33m)\u001b[0m\u001b[1;33m\u001b[0m\u001b[1;33m\u001b[0m\u001b[0m\n\u001b[0m\u001b[0;32m    576\u001b[0m \u001b[1;33m\u001b[0m\u001b[0m\n\u001b[0;32m    577\u001b[0m     \u001b[1;32mif\u001b[0m \u001b[0mchunksize\u001b[0m \u001b[1;32mor\u001b[0m \u001b[0miterator\u001b[0m\u001b[1;33m:\u001b[0m\u001b[1;33m\u001b[0m\u001b[1;33m\u001b[0m\u001b[0m\n",
      "\u001b[1;32mC:\\ProgramData\\Anaconda3\\lib\\site-packages\\pandas\\io\\parsers\\readers.py\u001b[0m in \u001b[0;36m__init__\u001b[1;34m(self, f, engine, **kwds)\u001b[0m\n\u001b[0;32m    930\u001b[0m \u001b[1;33m\u001b[0m\u001b[0m\n\u001b[0;32m    931\u001b[0m         \u001b[0mself\u001b[0m\u001b[1;33m.\u001b[0m\u001b[0mhandles\u001b[0m\u001b[1;33m:\u001b[0m \u001b[0mIOHandles\u001b[0m \u001b[1;33m|\u001b[0m \u001b[1;32mNone\u001b[0m \u001b[1;33m=\u001b[0m \u001b[1;32mNone\u001b[0m\u001b[1;33m\u001b[0m\u001b[1;33m\u001b[0m\u001b[0m\n\u001b[1;32m--> 932\u001b[1;33m         \u001b[0mself\u001b[0m\u001b[1;33m.\u001b[0m\u001b[0m_engine\u001b[0m \u001b[1;33m=\u001b[0m \u001b[0mself\u001b[0m\u001b[1;33m.\u001b[0m\u001b[0m_make_engine\u001b[0m\u001b[1;33m(\u001b[0m\u001b[0mf\u001b[0m\u001b[1;33m,\u001b[0m \u001b[0mself\u001b[0m\u001b[1;33m.\u001b[0m\u001b[0mengine\u001b[0m\u001b[1;33m)\u001b[0m\u001b[1;33m\u001b[0m\u001b[1;33m\u001b[0m\u001b[0m\n\u001b[0m\u001b[0;32m    933\u001b[0m \u001b[1;33m\u001b[0m\u001b[0m\n\u001b[0;32m    934\u001b[0m     \u001b[1;32mdef\u001b[0m \u001b[0mclose\u001b[0m\u001b[1;33m(\u001b[0m\u001b[0mself\u001b[0m\u001b[1;33m)\u001b[0m\u001b[1;33m:\u001b[0m\u001b[1;33m\u001b[0m\u001b[1;33m\u001b[0m\u001b[0m\n",
      "\u001b[1;32mC:\\ProgramData\\Anaconda3\\lib\\site-packages\\pandas\\io\\parsers\\readers.py\u001b[0m in \u001b[0;36m_make_engine\u001b[1;34m(self, f, engine)\u001b[0m\n\u001b[0;32m   1214\u001b[0m             \u001b[1;31m# \"Union[str, PathLike[str], ReadCsvBuffer[bytes], ReadCsvBuffer[str]]\"\u001b[0m\u001b[1;33m\u001b[0m\u001b[1;33m\u001b[0m\u001b[0m\n\u001b[0;32m   1215\u001b[0m             \u001b[1;31m# , \"str\", \"bool\", \"Any\", \"Any\", \"Any\", \"Any\", \"Any\"\u001b[0m\u001b[1;33m\u001b[0m\u001b[1;33m\u001b[0m\u001b[0m\n\u001b[1;32m-> 1216\u001b[1;33m             self.handles = get_handle(  # type: ignore[call-overload]\n\u001b[0m\u001b[0;32m   1217\u001b[0m                 \u001b[0mf\u001b[0m\u001b[1;33m,\u001b[0m\u001b[1;33m\u001b[0m\u001b[1;33m\u001b[0m\u001b[0m\n\u001b[0;32m   1218\u001b[0m                 \u001b[0mmode\u001b[0m\u001b[1;33m,\u001b[0m\u001b[1;33m\u001b[0m\u001b[1;33m\u001b[0m\u001b[0m\n",
      "\u001b[1;32mC:\\ProgramData\\Anaconda3\\lib\\site-packages\\pandas\\io\\common.py\u001b[0m in \u001b[0;36mget_handle\u001b[1;34m(path_or_buf, mode, encoding, compression, memory_map, is_text, errors, storage_options)\u001b[0m\n\u001b[0;32m    784\u001b[0m         \u001b[1;32mif\u001b[0m \u001b[0mioargs\u001b[0m\u001b[1;33m.\u001b[0m\u001b[0mencoding\u001b[0m \u001b[1;32mand\u001b[0m \u001b[1;34m\"b\"\u001b[0m \u001b[1;32mnot\u001b[0m \u001b[1;32min\u001b[0m \u001b[0mioargs\u001b[0m\u001b[1;33m.\u001b[0m\u001b[0mmode\u001b[0m\u001b[1;33m:\u001b[0m\u001b[1;33m\u001b[0m\u001b[1;33m\u001b[0m\u001b[0m\n\u001b[0;32m    785\u001b[0m             \u001b[1;31m# Encoding\u001b[0m\u001b[1;33m\u001b[0m\u001b[1;33m\u001b[0m\u001b[0m\n\u001b[1;32m--> 786\u001b[1;33m             handle = open(\n\u001b[0m\u001b[0;32m    787\u001b[0m                 \u001b[0mhandle\u001b[0m\u001b[1;33m,\u001b[0m\u001b[1;33m\u001b[0m\u001b[1;33m\u001b[0m\u001b[0m\n\u001b[0;32m    788\u001b[0m                 \u001b[0mioargs\u001b[0m\u001b[1;33m.\u001b[0m\u001b[0mmode\u001b[0m\u001b[1;33m,\u001b[0m\u001b[1;33m\u001b[0m\u001b[1;33m\u001b[0m\u001b[0m\n",
      "\u001b[1;31mFileNotFoundError\u001b[0m: [Errno 2] No such file or directory: 'E:/Imarticus_CF/Datasets/HeartDisease.csv'"
     ]
    }
   ],
   "source": [
    "df = pd.read_csv('E:/Imarticus_CF/Datasets/HeartDisease.csv')\n",
    "df.head()"
   ]
  },
  {
   "cell_type": "code",
   "execution_count": null,
   "id": "bdce7ef8",
   "metadata": {},
   "outputs": [],
   "source": [
    "pd.set_option('display.max_columns',None)\n",
    "pd.set_option('display.max_rows',None) "
   ]
  },
  {
   "cell_type": "code",
   "execution_count": null,
   "id": "ae347aad",
   "metadata": {},
   "outputs": [],
   "source": [
    "df.shape\n",
    "# rows = 303,cols=14"
   ]
  },
  {
   "cell_type": "markdown",
   "id": "df818b3b",
   "metadata": {},
   "source": [
    "### Data Preprocessing"
   ]
  },
  {
   "cell_type": "markdown",
   "id": "427dbc2d",
   "metadata": {},
   "source": [
    "#### 1) Handling Null values"
   ]
  },
  {
   "cell_type": "code",
   "execution_count": null,
   "id": "ed1b2e03",
   "metadata": {},
   "outputs": [],
   "source": [
    "df.isnull().sum()"
   ]
  },
  {
   "cell_type": "markdown",
   "id": "655e774d",
   "metadata": {},
   "source": [
    "#### 2) Handling Duplicates"
   ]
  },
  {
   "cell_type": "code",
   "execution_count": null,
   "id": "29b577e0",
   "metadata": {},
   "outputs": [],
   "source": [
    "df.duplicated().sum()"
   ]
  },
  {
   "cell_type": "code",
   "execution_count": null,
   "id": "124dca64",
   "metadata": {},
   "outputs": [],
   "source": [
    "df.drop_duplicates(inplace=True)\n",
    "df.duplicated().sum()"
   ]
  },
  {
   "cell_type": "markdown",
   "id": "203e852a",
   "metadata": {},
   "source": [
    "#### 3) Check data types"
   ]
  },
  {
   "cell_type": "code",
   "execution_count": null,
   "id": "ac044a8a",
   "metadata": {},
   "outputs": [],
   "source": [
    "df.dtypes"
   ]
  },
  {
   "cell_type": "markdown",
   "id": "33c94a9c",
   "metadata": {},
   "source": [
    "#### 4) Target Variable"
   ]
  },
  {
   "cell_type": "code",
   "execution_count": null,
   "id": "b0d0e48d",
   "metadata": {},
   "outputs": [],
   "source": [
    "df['target'].value_counts()"
   ]
  },
  {
   "cell_type": "markdown",
   "id": "0901cd03",
   "metadata": {},
   "source": [
    "### EDA"
   ]
  },
  {
   "cell_type": "markdown",
   "id": "7c352c08",
   "metadata": {},
   "source": [
    "#### Countplot for Target"
   ]
  },
  {
   "cell_type": "code",
   "execution_count": null,
   "id": "dee2963b",
   "metadata": {},
   "outputs": [],
   "source": [
    "sns.countplot(x=df['target'])\n",
    "plt.title('Countplot for Target')\n",
    "plt.show()"
   ]
  },
  {
   "cell_type": "code",
   "execution_count": null,
   "id": "80e69879",
   "metadata": {},
   "outputs": [],
   "source": [
    "df.columns"
   ]
  },
  {
   "cell_type": "code",
   "execution_count": null,
   "id": "db8b1df2",
   "metadata": {},
   "outputs": [],
   "source": [
    "df['gender'].value_counts()"
   ]
  },
  {
   "cell_type": "code",
   "execution_count": null,
   "id": "7c016ef3",
   "metadata": {},
   "outputs": [],
   "source": [
    "for i in df.columns:\n",
    "    print(f'Feature {i}')\n",
    "    print(df[i].nunique())"
   ]
  },
  {
   "cell_type": "code",
   "execution_count": null,
   "id": "6968195e",
   "metadata": {},
   "outputs": [],
   "source": [
    "df.columns"
   ]
  },
  {
   "cell_type": "code",
   "execution_count": null,
   "id": "1e445845",
   "metadata": {},
   "outputs": [],
   "source": [
    "cont_feat = ['age','rest_bps','cholestrol','thalach','old_peak']\n",
    "# cat_feat = ['gender','chest_pain','fasting_blood_sugar','rest_ecg','exer_angina',\n",
    "#            'slope', 'ca', 'thalassemia']"
   ]
  },
  {
   "cell_type": "code",
   "execution_count": null,
   "id": "486fa615",
   "metadata": {},
   "outputs": [],
   "source": [
    "cat_feat = [i for i in df.columns if i not in cont_feat]\n",
    "print(cat_feat)"
   ]
  },
  {
   "cell_type": "code",
   "execution_count": null,
   "id": "78926852",
   "metadata": {},
   "outputs": [],
   "source": [
    "for i in cat_feat:\n",
    "    sns.countplot(x=df['target'],hue=df[i])\n",
    "    plt.title(f'Count of target wrt {i}')\n",
    "    plt.show()"
   ]
  },
  {
   "cell_type": "markdown",
   "id": "c1d41616",
   "metadata": {},
   "source": [
    "#### Inference\n",
    "1) Female patients are more affected by heart disease.<br>\n",
    "2) Chest Pain intensity 2 patients are more affected by heart disease.\n",
    "etc"
   ]
  },
  {
   "cell_type": "markdown",
   "id": "2b6a81a9",
   "metadata": {},
   "source": [
    "### Correlation"
   ]
  },
  {
   "cell_type": "code",
   "execution_count": null,
   "id": "75126cf7",
   "metadata": {},
   "outputs": [],
   "source": [
    "corr = df.corr()"
   ]
  },
  {
   "cell_type": "code",
   "execution_count": null,
   "id": "06d73926",
   "metadata": {},
   "outputs": [],
   "source": [
    "plt.figure(figsize=(12,12))\n",
    "sns.heatmap(corr[abs(corr)>0.7],annot=True,cmap='RdBu')\n",
    "plt.show()"
   ]
  },
  {
   "cell_type": "markdown",
   "id": "0aba785a",
   "metadata": {},
   "source": [
    "#### Infernece\n",
    "1) Features are not highly correlated."
   ]
  },
  {
   "cell_type": "markdown",
   "id": "b132323d",
   "metadata": {},
   "source": [
    "#### Outlier Treatment"
   ]
  },
  {
   "cell_type": "code",
   "execution_count": null,
   "id": "5d05c958",
   "metadata": {},
   "outputs": [],
   "source": [
    "print(cont_feat)"
   ]
  },
  {
   "cell_type": "code",
   "execution_count": null,
   "id": "eb23a7e4",
   "metadata": {},
   "outputs": [],
   "source": [
    "for i in cont_feat:\n",
    "    sns.boxplot(x=df[i])\n",
    "    plt.title(f'Boxplot for {i}')\n",
    "    plt.show()"
   ]
  },
  {
   "cell_type": "code",
   "execution_count": null,
   "id": "17c4faf0",
   "metadata": {},
   "outputs": [],
   "source": [
    "df[cont_feat].describe(percentiles=[0.95,0.97,0.98,0.99]).T"
   ]
  },
  {
   "cell_type": "code",
   "execution_count": null,
   "id": "460227a2",
   "metadata": {},
   "outputs": [],
   "source": [
    "print(df[df['old_peak']>4.2].shape)\n",
    "print(df[df['rest_bps']>170.00].shape)\n",
    "print(df[df['cholestrol']>353.98].shape)"
   ]
  },
  {
   "cell_type": "code",
   "execution_count": null,
   "id": "9befeb2f",
   "metadata": {},
   "outputs": [],
   "source": [
    "# def outlier_treatment(x):\n",
    "#     x = x.clip(upper=x.quantile(0.99))\n",
    "#     return x"
   ]
  },
  {
   "cell_type": "code",
   "execution_count": null,
   "id": "1c44b5c4",
   "metadata": {},
   "outputs": [],
   "source": [
    "# x = int(input())\n",
    "# res = np.where(x%2==0,'Even','Odd')\n",
    "# print(res)"
   ]
  },
  {
   "cell_type": "code",
   "execution_count": null,
   "id": "bc779e9b",
   "metadata": {},
   "outputs": [],
   "source": [
    "df['old_peak'] = np.where(df['old_peak']>4.2,4.2,df['old_peak'])\n",
    "df['rest_bps'] = np.where(df['rest_bps']>170.00,170.00,df['rest_bps'])\n",
    "df['cholestrol'] = np.where(df['cholestrol']>353.98,353.98,df['cholestrol'])"
   ]
  },
  {
   "cell_type": "code",
   "execution_count": null,
   "id": "7c89adef",
   "metadata": {},
   "outputs": [],
   "source": [
    "for i in ['old_peak','rest_bps','cholestrol']:\n",
    "    sns.boxplot(x=df[i])\n",
    "    plt.title(f'{i}')\n",
    "    plt.show()"
   ]
  },
  {
   "cell_type": "markdown",
   "id": "ba7b2f80",
   "metadata": {},
   "source": [
    "#### Select x and y"
   ]
  },
  {
   "cell_type": "code",
   "execution_count": null,
   "id": "529db0bb",
   "metadata": {},
   "outputs": [],
   "source": [
    "x = df.drop('target',axis=1)\n",
    "y = df['target']\n",
    "print(type(x),type(y))\n",
    "print(x.shape,y.shape)"
   ]
  },
  {
   "cell_type": "markdown",
   "id": "739b92cf",
   "metadata": {},
   "source": [
    "#### Split data into train and test"
   ]
  },
  {
   "cell_type": "code",
   "execution_count": null,
   "id": "b9c86c0e",
   "metadata": {},
   "outputs": [],
   "source": [
    "from sklearn.model_selection import train_test_split"
   ]
  },
  {
   "cell_type": "code",
   "execution_count": null,
   "id": "be7e30f7",
   "metadata": {},
   "outputs": [],
   "source": [
    "x_train,x_test,y_train,y_test = train_test_split(x,y,test_size=0.30,random_state=42)\n",
    "print(x_train.shape)\n",
    "print(x_test.shape)\n",
    "print(y_train.shape)\n",
    "print(y_test.shape)"
   ]
  },
  {
   "cell_type": "markdown",
   "id": "aeb23de3",
   "metadata": {},
   "source": [
    "#### Creating Function Evaluate model performance"
   ]
  },
  {
   "cell_type": "code",
   "execution_count": null,
   "id": "a407b088",
   "metadata": {},
   "outputs": [],
   "source": [
    "from sklearn.metrics import confusion_matrix,classification_report,accuracy_score"
   ]
  },
  {
   "cell_type": "code",
   "execution_count": null,
   "id": "d0412ca5",
   "metadata": {},
   "outputs": [],
   "source": [
    "# def eval_model(ytest,ypred):\n",
    "#     cm = confusion_matrix(ytest,ypred)\n",
    "#     print(cm)\n",
    "#     print('Acc Score',accuracy_score(ytest,ypred))\n",
    "#     print(classification_report(ytest,ypred))\n",
    "    \n",
    "def mscore(model):\n",
    "    print('Train Score',model.score(x_train,y_train))\n",
    "    print('Test Score',model.score(x_test,y_test))"
   ]
  },
  {
   "cell_type": "code",
   "execution_count": null,
   "id": "5538d310",
   "metadata": {},
   "outputs": [],
   "source": [
    "def eval_model(model,x_train,x_test,y_train,y_test,model_name):\n",
    "    model.fit(x_train,y_train)\n",
    "    train_scr = model.score(x_train,y_train)\n",
    "    test_scr = model.score(x_test,y_test)\n",
    "    ypred = model.predict(x_test)\n",
    "    cm = confusion_matrix(y_test,ypred)\n",
    "    print(cm)\n",
    "    print('Acc Score',accuracy_score(y_test,ypred))\n",
    "    print(classification_report(y_test,ypred))\n",
    "    res = pd.DataFrame({'Train_Score':train_scr,'Test_Score':test_scr},index=[model_name])\n",
    "    return res"
   ]
  },
  {
   "cell_type": "markdown",
   "id": "543108e8",
   "metadata": {},
   "source": [
    "#### Model Building"
   ]
  },
  {
   "cell_type": "code",
   "execution_count": null,
   "id": "2426637e",
   "metadata": {},
   "outputs": [],
   "source": [
    "from sklearn.tree import DecisionTreeClassifier, plot_tree,export_text"
   ]
  },
  {
   "cell_type": "code",
   "execution_count": null,
   "id": "cdf2d0d4",
   "metadata": {},
   "outputs": [],
   "source": [
    "dt1 = DecisionTreeClassifier(criterion='gini')\n",
    "dt1_res = eval_model(dt1,x_train,x_test,y_train,y_test,'DT1(gini)')\n",
    "dt1_res"
   ]
  },
  {
   "cell_type": "code",
   "execution_count": null,
   "id": "765a62ad",
   "metadata": {},
   "outputs": [],
   "source": [
    "dt1_res"
   ]
  },
  {
   "cell_type": "code",
   "execution_count": null,
   "id": "a2cc64ac",
   "metadata": {},
   "outputs": [],
   "source": [
    "dt2 = DecisionTreeClassifier(criterion='gini',max_depth=7,min_samples_split=15)\n",
    "dt2_res = eval_model(dt2,x_train,x_test,y_train,y_test,'DT2(gini,md,mss)')"
   ]
  },
  {
   "cell_type": "code",
   "execution_count": null,
   "id": "4cadbae2",
   "metadata": {},
   "outputs": [],
   "source": [
    "dt2_res"
   ]
  },
  {
   "cell_type": "markdown",
   "id": "55622bc7",
   "metadata": {},
   "source": [
    "#### Cross Validation for Max_Depth"
   ]
  },
  {
   "cell_type": "code",
   "execution_count": null,
   "id": "a3793630",
   "metadata": {},
   "outputs": [],
   "source": [
    "from sklearn.model_selection import cross_val_score, GridSearchCV, RandomizedSearchCV, KFold"
   ]
  },
  {
   "cell_type": "code",
   "execution_count": null,
   "id": "3f0b5a52",
   "metadata": {},
   "outputs": [],
   "source": [
    "kf_cv = KFold(n_splits=5,shuffle=True)\n",
    "dt = DecisionTreeClassifier(criterion='gini')\n",
    "max_depth_range = list(range(7,13))  # 7,8,9,10,11,12\n",
    "for i in max_depth_range:\n",
    "    score = cross_val_score(dt, x,y,cv=kf_cv,scoring='accuracy')\n",
    "    print(f'Score for max_depth {i} is {score}')\n",
    "    print(f'Mean Score max_depth {i} is {score.mean()}')"
   ]
  },
  {
   "cell_type": "markdown",
   "id": "3ec9aace",
   "metadata": {},
   "source": [
    "#### Cross Validation for Min_Samples_Split"
   ]
  },
  {
   "cell_type": "code",
   "execution_count": null,
   "id": "19b79298",
   "metadata": {},
   "outputs": [],
   "source": [
    "kf_cv = KFold(n_splits=5,shuffle=True)\n",
    "dt = DecisionTreeClassifier(criterion='gini')\n",
    "mss_range = list(range(8,20,2))  # 8,10,12,....,18\n",
    "for i in mss_range:\n",
    "    score = cross_val_score(dt, x,y,cv=kf_cv,scoring='accuracy')\n",
    "    print(f'Score for min_samples_split {i} is {score}')\n",
    "    print(f'Mean Score min_samples_split {i} is {score.mean()}')"
   ]
  },
  {
   "cell_type": "markdown",
   "id": "6457cbbb",
   "metadata": {},
   "source": [
    "### Hyperparameter Tuning Techniques\n",
    "\n",
    "#### GridSearchCV\n",
    "1) Searches for all possible permutations and combination of hyperparameters and then generates the best hyperparameters.<br>\n",
    "2) High time complexity<br>\n",
    "\n",
    "#### RandomizedSarchCV\n",
    "1) Searches for some random combinations of hyperparameters and then generates the best parameters from amongst the randomly chosen combinations.<br>\n",
    "2) Low time complexity<br>\n"
   ]
  },
  {
   "cell_type": "code",
   "execution_count": null,
   "id": "fb3056de",
   "metadata": {},
   "outputs": [],
   "source": [
    "hparams = {'criterion':['gini','entropy'],\n",
    "          'max_depth':[8,9,10,11,12,14],\n",
    "          'min_samples_split':[8,10,12,14,15,16,20]}"
   ]
  },
  {
   "cell_type": "code",
   "execution_count": null,
   "id": "4b29d2e0",
   "metadata": {},
   "outputs": [],
   "source": [
    "dt_base = DecisionTreeClassifier()\n",
    "gscv = GridSearchCV(dt_base,param_grid=hparams,scoring='accuracy')  # cv=5\n",
    "gscv.fit(x_train,y_train)"
   ]
  },
  {
   "cell_type": "code",
   "execution_count": null,
   "id": "f4484031",
   "metadata": {},
   "outputs": [],
   "source": [
    "print(gscv.best_params_)"
   ]
  },
  {
   "cell_type": "code",
   "execution_count": null,
   "id": "b9154327",
   "metadata": {},
   "outputs": [],
   "source": [
    "gscv1_res = pd.DataFrame(gscv.cv_results_)\n",
    "gscv1_res.head()"
   ]
  },
  {
   "cell_type": "code",
   "execution_count": null,
   "id": "304a59a3",
   "metadata": {},
   "outputs": [],
   "source": [
    "gscv1_res.shape"
   ]
  },
  {
   "cell_type": "code",
   "execution_count": null,
   "id": "56c1d47c",
   "metadata": {},
   "outputs": [],
   "source": [
    "gscv1_res.columns"
   ]
  },
  {
   "cell_type": "code",
   "execution_count": null,
   "id": "aa6dd5fd",
   "metadata": {},
   "outputs": [],
   "source": [
    "comp1 = gscv1_res[['params', 'mean_test_score','rank_test_score']]\n",
    "comp1.sort_values('rank_test_score',ascending=True,inplace=True)\n",
    "comp1"
   ]
  },
  {
   "cell_type": "code",
   "execution_count": null,
   "id": "e676be39",
   "metadata": {},
   "outputs": [],
   "source": [
    "print(gscv.best_params_)\n",
    "print(gscv.best_estimator_)\n",
    "print(gscv.best_index_)\n",
    "print(gscv.best_score_)"
   ]
  },
  {
   "cell_type": "code",
   "execution_count": null,
   "id": "e5c330b4",
   "metadata": {},
   "outputs": [],
   "source": [
    "print(gscv.score(x_train,y_train))\n",
    "print(gscv.score(x_test,y_test))"
   ]
  },
  {
   "cell_type": "markdown",
   "id": "6a2379c9",
   "metadata": {},
   "source": [
    "#### args and kwargs"
   ]
  },
  {
   "cell_type": "code",
   "execution_count": null,
   "id": "80eb3dd4",
   "metadata": {},
   "outputs": [],
   "source": [
    "# args - *, used with list or tuple\n",
    "# kwargs - **, used with dict"
   ]
  },
  {
   "cell_type": "code",
   "execution_count": null,
   "id": "a37ef8d0",
   "metadata": {},
   "outputs": [],
   "source": [
    "def sum_n(*x):\n",
    "    tot = 0\n",
    "    for i in x:   # destructuring\n",
    "        tot += i\n",
    "    print(tot)\n",
    "    \n",
    "sum_n(2,3)\n",
    "sum_n()\n",
    "sum_n(2,3,5,7,8,9,12,14,13)\n",
    "sum_n(2,3,5,7)"
   ]
  },
  {
   "cell_type": "code",
   "execution_count": null,
   "id": "fade5156",
   "metadata": {},
   "outputs": [],
   "source": [
    "w1 = [5,6,7,8]\n",
    "w2 = [10,20,40,w1,50]\n",
    "w3 = [10,20,40,*w1,50]\n",
    "print(w2)\n",
    "print(w3)"
   ]
  },
  {
   "cell_type": "code",
   "execution_count": null,
   "id": "2f5d304a",
   "metadata": {},
   "outputs": [],
   "source": [
    "def f1(**n):\n",
    "    print(n)\n",
    "    \n",
    "f1(name='Ankit',age=22)\n",
    "f1(age=22,city='Delhi',name='Ankit')"
   ]
  },
  {
   "cell_type": "code",
   "execution_count": null,
   "id": "958ffe32",
   "metadata": {},
   "outputs": [],
   "source": [
    "def prod(a,b):\n",
    "    print(a*b)\n",
    "\n",
    "prod(5,7)"
   ]
  },
  {
   "cell_type": "code",
   "execution_count": null,
   "id": "00fd594b",
   "metadata": {},
   "outputs": [],
   "source": [
    "w1 = {'a1':10,'a2':20}\n",
    "w2 = {'k1':5,'k2':7,'k3':w1}\n",
    "w3 = {'k1':5,'k2':7,**w1}\n",
    "print(w2)\n",
    "print(w3)"
   ]
  },
  {
   "cell_type": "code",
   "execution_count": null,
   "id": "2b6e60ae",
   "metadata": {},
   "outputs": [],
   "source": [
    "#### ** kwargs - keyword args"
   ]
  },
  {
   "cell_type": "code",
   "execution_count": null,
   "id": "241e4b45",
   "metadata": {},
   "outputs": [],
   "source": [
    "final_dt = DecisionTreeClassifier(**gscv.best_params_)\n",
    "final_res = eval_model(dt1,x_train,x_test,y_train,y_test,'GS_Best_params')\n",
    "final_res"
   ]
  },
  {
   "cell_type": "markdown",
   "id": "9be42dc8",
   "metadata": {},
   "source": [
    "#### Randomized Search CV"
   ]
  },
  {
   "cell_type": "code",
   "execution_count": null,
   "id": "70764013",
   "metadata": {},
   "outputs": [],
   "source": [
    "hparams = {'criterion':['gini','entropy'],\n",
    "          'max_depth':[8,9,10,11,12,14],\n",
    "          'min_samples_split':[8,10,12,14,15,16,20]}"
   ]
  },
  {
   "cell_type": "code",
   "execution_count": null,
   "id": "a6f780b8",
   "metadata": {},
   "outputs": [],
   "source": [
    "dt_base1 = DecisionTreeClassifier()\n",
    "rscv = RandomizedSearchCV(dt_base1,param_distributions=hparams,scoring='accuracy',n_iter=20)  # cv=5\n",
    "rscv.fit(x_train,y_train)"
   ]
  },
  {
   "cell_type": "code",
   "execution_count": null,
   "id": "c7fb653a",
   "metadata": {},
   "outputs": [],
   "source": [
    "rscv_res = pd.DataFrame(rscv.cv_results_)\n",
    "rscv_res.shape"
   ]
  },
  {
   "cell_type": "code",
   "execution_count": null,
   "id": "257709a6",
   "metadata": {},
   "outputs": [],
   "source": [
    "rscv_res[['params','mean_test_score','rank_test_score']]"
   ]
  },
  {
   "cell_type": "code",
   "execution_count": null,
   "id": "144b1d78",
   "metadata": {},
   "outputs": [],
   "source": [
    "print(rscv.best_params_)\n",
    "print(rscv.best_estimator_)\n",
    "print(rscv.best_index_)\n",
    "print(rscv.best_score_)"
   ]
  },
  {
   "cell_type": "code",
   "execution_count": null,
   "id": "99219644",
   "metadata": {},
   "outputs": [],
   "source": [
    "dt_res = pd.concat([dt1_res,dt2_res,final_res])\n",
    "dt_res"
   ]
  }
 ],
 "metadata": {
  "kernelspec": {
   "display_name": "Python 3 (ipykernel)",
   "language": "python",
   "name": "python3"
  },
  "language_info": {
   "codemirror_mode": {
    "name": "ipython",
    "version": 3
   },
   "file_extension": ".py",
   "mimetype": "text/x-python",
   "name": "python",
   "nbconvert_exporter": "python",
   "pygments_lexer": "ipython3",
   "version": "3.9.13"
  }
 },
 "nbformat": 4,
 "nbformat_minor": 5
}
